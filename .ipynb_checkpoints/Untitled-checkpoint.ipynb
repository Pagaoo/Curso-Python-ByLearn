{
 "cells": [
  {
   "cell_type": "code",
   "execution_count": null,
   "metadata": {},
   "outputs": [],
   "source": [
    "import numpy as np\n",
    "import matplotlib.pyplot as plt\n",
    "from random import randrange\n",
    "\n",
    "# Descrição por gráfico\n",
    "# Gráfico por barras\n",
    "# Pontos por time em cada esporte\n",
    "# Mostrar nome de cada esporte -> Labels\n",
    "# Para mostrar pontos para cada time, serão usados subgráficos\n",
    "# Cores padrãod o matplotlib\n",
    "time1 = 'Azul'\n",
    "time2 = 'Laranja'\n",
    "\n",
    "labels = ['Futebol', 'Handball', 'Volei', 'Basquete', 'Baseball']\n",
    "pontuacao_azul = [randrange(1,11), randrange(1,11), randrange(1,11), randrange(1,11), randrange(1,11)]\n",
    "pontuacao_laranja = [randrange(1,11), randrange(1,11), randrange(1,11), randrange(1,11), randrange(1,11)]\n",
    "\n",
    "esportes = np.arange(len(labels))  # Usa o tamanho da labels para arranjar o vetor\n",
    "largura = 0.45\n",
    "\n",
    "grafico, eixos = plt.subplots()\n",
    "print(grafico)\n",
    "print(eixos)\n",
    "\n",
    "barra_azul = eixos.bar(esportes - largura/2, pontuacao_azul, largura, time1)\n",
    "barra_laranja = eixos.bar(esportes + largura/2, pontuacao_laranja, largura, time2)\n",
    "\n",
    "eixos.set_ylabel('Pontuação')\n",
    "eixos.set_xlabel('Modalidade')\n",
    "eixos.set_title('Pontos por equipe')\n",
    "eixos.set_xticks(esportes)\n",
    "eixos.set_xtickslabels(labels)\n",
    "eixos.legend()\n",
    "\n",
    "grafico.tight_layout()\n",
    "plt.show()"
   ]
  },
  {
   "cell_type": "code",
   "execution_count": null,
   "metadata": {},
   "outputs": [],
   "source": []
  }
 ],
 "metadata": {
  "kernelspec": {
   "display_name": "Python 3",
   "language": "python",
   "name": "python3"
  },
  "language_info": {
   "codemirror_mode": {
    "name": "ipython",
    "version": 3
   },
   "file_extension": ".py",
   "mimetype": "text/x-python",
   "name": "python",
   "nbconvert_exporter": "python",
   "pygments_lexer": "ipython3",
   "version": "3.8.5"
  }
 },
 "nbformat": 4,
 "nbformat_minor": 4
}
